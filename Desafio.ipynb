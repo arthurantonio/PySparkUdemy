{
  "nbformat": 4,
  "nbformat_minor": 0,
  "metadata": {
    "colab": {
      "provenance": [],
      "authorship_tag": "ABX9TyOfxK1cnh3JSXFlAMu5B+Ri",
      "include_colab_link": true
    },
    "kernelspec": {
      "name": "python3",
      "display_name": "Python 3"
    },
    "language_info": {
      "name": "python"
    }
  },
  "cells": [
    {
      "cell_type": "markdown",
      "metadata": {
        "id": "view-in-github",
        "colab_type": "text"
      },
      "source": [
        "<a href=\"https://colab.research.google.com/github/arthurantonio/PySparkUdemy/blob/main/Desafio.ipynb\" target=\"_parent\"><img src=\"https://colab.research.google.com/assets/colab-badge.svg\" alt=\"Open In Colab\"/></a>"
      ]
    },
    {
      "cell_type": "code",
      "execution_count": 3,
      "metadata": {
        "colab": {
          "base_uri": "https://localhost:8080/"
        },
        "id": "ILdWNXIEBNGk",
        "outputId": "75340810-8e28-4828-a57a-161be6cf8ade"
      },
      "outputs": [
        {
          "output_type": "stream",
          "name": "stdout",
          "text": [
            "Requirement already satisfied: pyspark==3.3.2 in /usr/local/lib/python3.10/dist-packages (3.3.2)\n",
            "Requirement already satisfied: py4j==0.10.9.5 in /usr/local/lib/python3.10/dist-packages (from pyspark==3.3.2) (0.10.9.5)\n"
          ]
        }
      ],
      "source": [
        "#!pip install pyspark==3.3.2"
      ]
    },
    {
      "cell_type": "code",
      "source": [
        "from google.colab import drive\n",
        "drive.mount('/content/drive')"
      ],
      "metadata": {
        "colab": {
          "base_uri": "https://localhost:8080/"
        },
        "id": "NpluC7yHBZHB",
        "outputId": "7da087b8-1a78-4be2-eb39-1cc7e6723a67"
      },
      "execution_count": 4,
      "outputs": [
        {
          "output_type": "stream",
          "name": "stdout",
          "text": [
            "Mounted at /content/drive\n"
          ]
        }
      ]
    },
    {
      "cell_type": "code",
      "source": [
        "import pyspark.sql.functions as F\n",
        "from pyspark.sql import SparkSession, Window"
      ],
      "metadata": {
        "id": "gfdleVydBdAb"
      },
      "execution_count": 34,
      "outputs": []
    },
    {
      "cell_type": "code",
      "source": [
        "spark = (\n",
        "  SparkSession.builder.appName('Desafio')\n",
        "  .config('spark.sql.repl.eagerEval.enabled', True)\n",
        "  .getOrCreate()\n",
        ")"
      ],
      "metadata": {
        "id": "SUIWVQYKBky4"
      },
      "execution_count": 6,
      "outputs": []
    },
    {
      "cell_type": "markdown",
      "source": [
        "##Titanic"
      ],
      "metadata": {
        "id": "_vw2LJK9oF84"
      }
    },
    {
      "cell_type": "code",
      "source": [
        "df_titanic  = spark.read.csv('/content/drive/MyDrive/PySpark/data/Desafio/titanic.csv', header=True).alias('titanic')"
      ],
      "metadata": {
        "id": "pV19a6UVBumn"
      },
      "execution_count": 63,
      "outputs": []
    },
    {
      "cell_type": "code",
      "source": [
        "df_titanic"
      ],
      "metadata": {
        "colab": {
          "base_uri": "https://localhost:8080/",
          "height": 529
        },
        "id": "3Hv8JSDkCAxV",
        "outputId": "938d8930-9c38-49fd-d20b-b40fc877f20c"
      },
      "execution_count": 64,
      "outputs": [
        {
          "output_type": "execute_result",
          "data": {
            "text/plain": [
              "+-----------+--------+------+--------------------+------+----+-----+-----+----------------+-------+-----+--------+\n",
              "|PassengerId|Survived|Pclass|                Name|   Sex| Age|SibSp|Parch|          Ticket|   Fare|Cabin|Embarked|\n",
              "+-----------+--------+------+--------------------+------+----+-----+-----+----------------+-------+-----+--------+\n",
              "|          1|       0|     3|Braund, Mr. Owen ...|  male|  22|    1|    0|       A/5 21171|   7.25| null|       S|\n",
              "|          2|       1|     1|Cumings, Mrs. Joh...|female|  38|    1|    0|        PC 17599|71.2833|  C85|       C|\n",
              "|          3|       1|     3|Heikkinen, Miss. ...|female|  26|    0|    0|STON/O2. 3101282|  7.925| null|       S|\n",
              "|          4|       1|     1|Futrelle, Mrs. Ja...|female|  35|    1|    0|          113803|   53.1| C123|       S|\n",
              "|          5|       0|     3|Allen, Mr. Willia...|  male|  35|    0|    0|          373450|   8.05| null|       S|\n",
              "|          6|       0|     3|    Moran, Mr. James|  male|null|    0|    0|          330877| 8.4583| null|       Q|\n",
              "|          7|       0|     1|McCarthy, Mr. Tim...|  male|  54|    0|    0|           17463|51.8625|  E46|       S|\n",
              "|          8|       0|     3|Palsson, Master. ...|  male|   2|    3|    1|          349909| 21.075| null|       S|\n",
              "|          9|       1|     3|Johnson, Mrs. Osc...|female|  27|    0|    2|          347742|11.1333| null|       S|\n",
              "|         10|       1|     2|Nasser, Mrs. Nich...|female|  14|    1|    0|          237736|30.0708| null|       C|\n",
              "|         11|       1|     3|Sandstrom, Miss. ...|female|   4|    1|    1|         PP 9549|   16.7|   G6|       S|\n",
              "|         12|       1|     1|Bonnell, Miss. El...|female|  58|    0|    0|          113783|  26.55| C103|       S|\n",
              "|         13|       0|     3|Saundercock, Mr. ...|  male|  20|    0|    0|       A/5. 2151|   8.05| null|       S|\n",
              "|         14|       0|     3|Andersson, Mr. An...|  male|  39|    1|    5|          347082| 31.275| null|       S|\n",
              "|         15|       0|     3|Vestrom, Miss. Hu...|female|  14|    0|    0|          350406| 7.8542| null|       S|\n",
              "|         16|       1|     2|Hewlett, Mrs. (Ma...|female|  55|    0|    0|          248706|     16| null|       S|\n",
              "|         17|       0|     3|Rice, Master. Eugene|  male|   2|    4|    1|          382652| 29.125| null|       Q|\n",
              "|         18|       1|     2|Williams, Mr. Cha...|  male|null|    0|    0|          244373|     13| null|       S|\n",
              "|         19|       0|     3|Vander Planke, Mr...|female|  31|    1|    0|          345763|     18| null|       S|\n",
              "|         20|       1|     3|Masselmani, Mrs. ...|female|null|    0|    0|            2649|  7.225| null|       C|\n",
              "+-----------+--------+------+--------------------+------+----+-----+-----+----------------+-------+-----+--------+\n",
              "only showing top 20 rows"
            ],
            "text/html": [
              "<table border='1'>\n",
              "<tr><th>PassengerId</th><th>Survived</th><th>Pclass</th><th>Name</th><th>Sex</th><th>Age</th><th>SibSp</th><th>Parch</th><th>Ticket</th><th>Fare</th><th>Cabin</th><th>Embarked</th></tr>\n",
              "<tr><td>1</td><td>0</td><td>3</td><td>Braund, Mr. Owen ...</td><td>male</td><td>22</td><td>1</td><td>0</td><td>A/5 21171</td><td>7.25</td><td>null</td><td>S</td></tr>\n",
              "<tr><td>2</td><td>1</td><td>1</td><td>Cumings, Mrs. Joh...</td><td>female</td><td>38</td><td>1</td><td>0</td><td>PC 17599</td><td>71.2833</td><td>C85</td><td>C</td></tr>\n",
              "<tr><td>3</td><td>1</td><td>3</td><td>Heikkinen, Miss. ...</td><td>female</td><td>26</td><td>0</td><td>0</td><td>STON/O2. 3101282</td><td>7.925</td><td>null</td><td>S</td></tr>\n",
              "<tr><td>4</td><td>1</td><td>1</td><td>Futrelle, Mrs. Ja...</td><td>female</td><td>35</td><td>1</td><td>0</td><td>113803</td><td>53.1</td><td>C123</td><td>S</td></tr>\n",
              "<tr><td>5</td><td>0</td><td>3</td><td>Allen, Mr. Willia...</td><td>male</td><td>35</td><td>0</td><td>0</td><td>373450</td><td>8.05</td><td>null</td><td>S</td></tr>\n",
              "<tr><td>6</td><td>0</td><td>3</td><td>Moran, Mr. James</td><td>male</td><td>null</td><td>0</td><td>0</td><td>330877</td><td>8.4583</td><td>null</td><td>Q</td></tr>\n",
              "<tr><td>7</td><td>0</td><td>1</td><td>McCarthy, Mr. Tim...</td><td>male</td><td>54</td><td>0</td><td>0</td><td>17463</td><td>51.8625</td><td>E46</td><td>S</td></tr>\n",
              "<tr><td>8</td><td>0</td><td>3</td><td>Palsson, Master. ...</td><td>male</td><td>2</td><td>3</td><td>1</td><td>349909</td><td>21.075</td><td>null</td><td>S</td></tr>\n",
              "<tr><td>9</td><td>1</td><td>3</td><td>Johnson, Mrs. Osc...</td><td>female</td><td>27</td><td>0</td><td>2</td><td>347742</td><td>11.1333</td><td>null</td><td>S</td></tr>\n",
              "<tr><td>10</td><td>1</td><td>2</td><td>Nasser, Mrs. Nich...</td><td>female</td><td>14</td><td>1</td><td>0</td><td>237736</td><td>30.0708</td><td>null</td><td>C</td></tr>\n",
              "<tr><td>11</td><td>1</td><td>3</td><td>Sandstrom, Miss. ...</td><td>female</td><td>4</td><td>1</td><td>1</td><td>PP 9549</td><td>16.7</td><td>G6</td><td>S</td></tr>\n",
              "<tr><td>12</td><td>1</td><td>1</td><td>Bonnell, Miss. El...</td><td>female</td><td>58</td><td>0</td><td>0</td><td>113783</td><td>26.55</td><td>C103</td><td>S</td></tr>\n",
              "<tr><td>13</td><td>0</td><td>3</td><td>Saundercock, Mr. ...</td><td>male</td><td>20</td><td>0</td><td>0</td><td>A/5. 2151</td><td>8.05</td><td>null</td><td>S</td></tr>\n",
              "<tr><td>14</td><td>0</td><td>3</td><td>Andersson, Mr. An...</td><td>male</td><td>39</td><td>1</td><td>5</td><td>347082</td><td>31.275</td><td>null</td><td>S</td></tr>\n",
              "<tr><td>15</td><td>0</td><td>3</td><td>Vestrom, Miss. Hu...</td><td>female</td><td>14</td><td>0</td><td>0</td><td>350406</td><td>7.8542</td><td>null</td><td>S</td></tr>\n",
              "<tr><td>16</td><td>1</td><td>2</td><td>Hewlett, Mrs. (Ma...</td><td>female</td><td>55</td><td>0</td><td>0</td><td>248706</td><td>16</td><td>null</td><td>S</td></tr>\n",
              "<tr><td>17</td><td>0</td><td>3</td><td>Rice, Master. Eugene</td><td>male</td><td>2</td><td>4</td><td>1</td><td>382652</td><td>29.125</td><td>null</td><td>Q</td></tr>\n",
              "<tr><td>18</td><td>1</td><td>2</td><td>Williams, Mr. Cha...</td><td>male</td><td>null</td><td>0</td><td>0</td><td>244373</td><td>13</td><td>null</td><td>S</td></tr>\n",
              "<tr><td>19</td><td>0</td><td>3</td><td>Vander Planke, Mr...</td><td>female</td><td>31</td><td>1</td><td>0</td><td>345763</td><td>18</td><td>null</td><td>S</td></tr>\n",
              "<tr><td>20</td><td>1</td><td>3</td><td>Masselmani, Mrs. ...</td><td>female</td><td>null</td><td>0</td><td>0</td><td>2649</td><td>7.225</td><td>null</td><td>C</td></tr>\n",
              "</table>\n",
              "only showing top 20 rows\n"
            ]
          },
          "metadata": {},
          "execution_count": 64
        }
      ]
    },
    {
      "cell_type": "code",
      "source": [
        "(\n",
        "    df_titanic\n",
        "    .groupBy('Survived')\n",
        "    .agg(\n",
        "        F.count('Survived').alias('Total')\n",
        "    )\n",
        "    .withColumn('Porcentagem', F.round(F.col('Total')/df.count()*100, 2))\n",
        ")"
      ],
      "metadata": {
        "colab": {
          "base_uri": "https://localhost:8080/",
          "height": 91
        },
        "id": "Cf76qxPnCD0s",
        "outputId": "28f8f7a3-c9de-4eaf-8fe0-62e0e4b338f5"
      },
      "execution_count": 65,
      "outputs": [
        {
          "output_type": "execute_result",
          "data": {
            "text/plain": [
              "+--------+-----+-----------+\n",
              "|Survived|Total|Porcentagem|\n",
              "+--------+-----+-----------+\n",
              "|       0|  549|      61.62|\n",
              "|       1|  342|      38.38|\n",
              "+--------+-----+-----------+"
            ],
            "text/html": [
              "<table border='1'>\n",
              "<tr><th>Survived</th><th>Total</th><th>Porcentagem</th></tr>\n",
              "<tr><td>0</td><td>549</td><td>61.62</td></tr>\n",
              "<tr><td>1</td><td>342</td><td>38.38</td></tr>\n",
              "</table>\n"
            ]
          },
          "metadata": {},
          "execution_count": 65
        }
      ]
    },
    {
      "cell_type": "code",
      "source": [
        "(\n",
        "    df_titanic\n",
        "    .groupBy('Survived')\n",
        "    .agg(\n",
        "        F.round(F.mean('Age'), 2).alias('Media de Idade')\n",
        "    )\n",
        ")"
      ],
      "metadata": {
        "colab": {
          "base_uri": "https://localhost:8080/",
          "height": 91
        },
        "id": "_7mv96jEJh_C",
        "outputId": "fa10e722-6e8a-4633-d088-e1fcf1264e03"
      },
      "execution_count": 66,
      "outputs": [
        {
          "output_type": "execute_result",
          "data": {
            "text/plain": [
              "+--------+--------------+\n",
              "|Survived|Media de Idade|\n",
              "+--------+--------------+\n",
              "|       0|         30.63|\n",
              "|       1|         28.34|\n",
              "+--------+--------------+"
            ],
            "text/html": [
              "<table border='1'>\n",
              "<tr><th>Survived</th><th>Media de Idade</th></tr>\n",
              "<tr><td>0</td><td>30.63</td></tr>\n",
              "<tr><td>1</td><td>28.34</td></tr>\n",
              "</table>\n"
            ]
          },
          "metadata": {},
          "execution_count": 66
        }
      ]
    },
    {
      "cell_type": "code",
      "source": [
        "(\n",
        "    df_titanic\n",
        "    .groupBy(['Pclass','Survived'])\n",
        "    .agg(\n",
        "        F.count('Survived').alias('Total')\n",
        "    )\n",
        ")"
      ],
      "metadata": {
        "colab": {
          "base_uri": "https://localhost:8080/",
          "height": 185
        },
        "id": "6-jdFcPXVIwT",
        "outputId": "092a6640-c9ee-483e-cd2d-b319a7c851f3"
      },
      "execution_count": 67,
      "outputs": [
        {
          "output_type": "execute_result",
          "data": {
            "text/plain": [
              "+------+--------+-----+\n",
              "|Pclass|Survived|Total|\n",
              "+------+--------+-----+\n",
              "|     1|       1|  136|\n",
              "|     2|       0|   97|\n",
              "|     3|       1|  119|\n",
              "|     3|       0|  372|\n",
              "|     2|       1|   87|\n",
              "|     1|       0|   80|\n",
              "+------+--------+-----+"
            ],
            "text/html": [
              "<table border='1'>\n",
              "<tr><th>Pclass</th><th>Survived</th><th>Total</th></tr>\n",
              "<tr><td>1</td><td>1</td><td>136</td></tr>\n",
              "<tr><td>2</td><td>0</td><td>97</td></tr>\n",
              "<tr><td>3</td><td>1</td><td>119</td></tr>\n",
              "<tr><td>3</td><td>0</td><td>372</td></tr>\n",
              "<tr><td>2</td><td>1</td><td>87</td></tr>\n",
              "<tr><td>1</td><td>0</td><td>80</td></tr>\n",
              "</table>\n"
            ]
          },
          "metadata": {},
          "execution_count": 67
        }
      ]
    },
    {
      "cell_type": "code",
      "source": [
        "window_spec = Window.partitionBy('Sex')\n",
        "\n",
        "(\n",
        "    df_titanic\n",
        "    .groupBy(['Sex','Survived'])\n",
        "    .agg(\n",
        "        F.count('Survived').alias('Total')\n",
        "    )\n",
        "    .withColumn('TotalPorSexo', F.sum('Total').over(window_spec))\n",
        "    .withColumn('Porcentagem', F.round(100 * (F.col('Total') / F.col('TotalPorSexo')), 2))\n",
        "    .filter(F.col('Sex') == 'female')\n",
        ")"
      ],
      "metadata": {
        "colab": {
          "base_uri": "https://localhost:8080/",
          "height": 91
        },
        "id": "YMJ-5-vMWaGf",
        "outputId": "0d8315d5-fc45-4109-9e36-c6f31eebea57"
      },
      "execution_count": 68,
      "outputs": [
        {
          "output_type": "execute_result",
          "data": {
            "text/plain": [
              "+------+--------+-----+------------+-----------+\n",
              "|   Sex|Survived|Total|TotalPorSexo|Porcentagem|\n",
              "+------+--------+-----+------------+-----------+\n",
              "|female|       0|   81|         314|       25.8|\n",
              "|female|       1|  233|         314|       74.2|\n",
              "+------+--------+-----+------------+-----------+"
            ],
            "text/html": [
              "<table border='1'>\n",
              "<tr><th>Sex</th><th>Survived</th><th>Total</th><th>TotalPorSexo</th><th>Porcentagem</th></tr>\n",
              "<tr><td>female</td><td>0</td><td>81</td><td>314</td><td>25.8</td></tr>\n",
              "<tr><td>female</td><td>1</td><td>233</td><td>314</td><td>74.2</td></tr>\n",
              "</table>\n"
            ]
          },
          "metadata": {},
          "execution_count": 68
        }
      ]
    },
    {
      "cell_type": "code",
      "source": [
        "(\n",
        "    df_titanic\n",
        "    .groupBy(['Survived'])\n",
        "    .agg(\n",
        "        F.count('Survived').alias('Total'),\n",
        "        F.sum('Fare').alias('Valor acumulado das passagens')\n",
        "    )\n",
        "    .withColumn('Valor médio da passagem', F.round(F.col('Valor acumulado das passagens')/F.col('Total'), 2))\n",
        ")"
      ],
      "metadata": {
        "colab": {
          "base_uri": "https://localhost:8080/",
          "height": 91
        },
        "id": "AuxXVQgTW0wX",
        "outputId": "1e83f10d-2e70-48b6-b601-9a248057b0a9"
      },
      "execution_count": 69,
      "outputs": [
        {
          "output_type": "execute_result",
          "data": {
            "text/plain": [
              "+--------+-----+-----------------------------+-----------------------+\n",
              "|Survived|Total|Valor acumulado das passagens|Valor médio da passagem|\n",
              "+--------+-----+-----------------------------+-----------------------+\n",
              "|       0|  549|           12142.719899999987|                  22.12|\n",
              "|       1|  342|           16551.229399999997|                   48.4|\n",
              "+--------+-----+-----------------------------+-----------------------+"
            ],
            "text/html": [
              "<table border='1'>\n",
              "<tr><th>Survived</th><th>Total</th><th>Valor acumulado das passagens</th><th>Valor médio da passagem</th></tr>\n",
              "<tr><td>0</td><td>549</td><td>12142.719899999987</td><td>22.12</td></tr>\n",
              "<tr><td>1</td><td>342</td><td>16551.229399999997</td><td>48.4</td></tr>\n",
              "</table>\n"
            ]
          },
          "metadata": {},
          "execution_count": 69
        }
      ]
    },
    {
      "cell_type": "code",
      "source": [
        "df_titanic.describe()"
      ],
      "metadata": {
        "colab": {
          "base_uri": "https://localhost:8080/",
          "height": 233
        },
        "id": "kaqvic7Thh2_",
        "outputId": "4124b61d-61ff-4730-c0ea-b6803b818b39"
      },
      "execution_count": 70,
      "outputs": [
        {
          "output_type": "execute_result",
          "data": {
            "text/plain": [
              "+-------+-----------------+-------------------+------------------+--------------------+------+------------------+------------------+-------------------+------------------+-----------------+-----+--------+\n",
              "|summary|      PassengerId|           Survived|            Pclass|                Name|   Sex|               Age|             SibSp|              Parch|            Ticket|             Fare|Cabin|Embarked|\n",
              "+-------+-----------------+-------------------+------------------+--------------------+------+------------------+------------------+-------------------+------------------+-----------------+-----+--------+\n",
              "|  count|              891|                891|               891|                 891|   891|               714|               891|                891|               891|              891|  204|     889|\n",
              "|   mean|            446.0| 0.3838383838383838| 2.308641975308642|                null|  null| 29.69911764705882|0.5230078563411896|0.38159371492704824|260318.54916792738| 32.2042079685746| null|    null|\n",
              "| stddev|257.3538420152301|0.48659245426485753|0.8360712409770491|                null|  null|14.526497332334035|1.1027434322934315| 0.8060572211299488|471609.26868834975|49.69342859718089| null|    null|\n",
              "|    min|                1|                  0|                 1|\"Andersson, Mr. A...|female|              0.42|                 0|                  0|            110152|                0|  A10|       C|\n",
              "|    max|               99|                  1|                 3|van Melkebeke, Mr...|  male|                 9|                 8|                  6|         WE/P 5735|             93.5|    T|       S|\n",
              "+-------+-----------------+-------------------+------------------+--------------------+------+------------------+------------------+-------------------+------------------+-----------------+-----+--------+"
            ],
            "text/html": [
              "<table border='1'>\n",
              "<tr><th>summary</th><th>PassengerId</th><th>Survived</th><th>Pclass</th><th>Name</th><th>Sex</th><th>Age</th><th>SibSp</th><th>Parch</th><th>Ticket</th><th>Fare</th><th>Cabin</th><th>Embarked</th></tr>\n",
              "<tr><td>count</td><td>891</td><td>891</td><td>891</td><td>891</td><td>891</td><td>714</td><td>891</td><td>891</td><td>891</td><td>891</td><td>204</td><td>889</td></tr>\n",
              "<tr><td>mean</td><td>446.0</td><td>0.3838383838383838</td><td>2.308641975308642</td><td>null</td><td>null</td><td>29.69911764705882</td><td>0.5230078563411896</td><td>0.38159371492704824</td><td>260318.54916792738</td><td>32.2042079685746</td><td>null</td><td>null</td></tr>\n",
              "<tr><td>stddev</td><td>257.3538420152301</td><td>0.48659245426485753</td><td>0.8360712409770491</td><td>null</td><td>null</td><td>14.526497332334035</td><td>1.1027434322934315</td><td>0.8060572211299488</td><td>471609.26868834975</td><td>49.69342859718089</td><td>null</td><td>null</td></tr>\n",
              "<tr><td>min</td><td>1</td><td>0</td><td>1</td><td>&quot;Andersson, Mr. A...</td><td>female</td><td>0.42</td><td>0</td><td>0</td><td>110152</td><td>0</td><td>A10</td><td>C</td></tr>\n",
              "<tr><td>max</td><td>99</td><td>1</td><td>3</td><td>van Melkebeke, Mr...</td><td>male</td><td>9</td><td>8</td><td>6</td><td>WE/P 5735</td><td>93.5</td><td>T</td><td>S</td></tr>\n",
              "</table>\n"
            ]
          },
          "metadata": {},
          "execution_count": 70
        }
      ]
    },
    {
      "cell_type": "code",
      "source": [
        "(\n",
        "    df_titanic\n",
        "    .groupBy(['Sex'])\n",
        "    .agg(\n",
        "        F.count('Sex').alias('Total')\n",
        "    )\n",
        "    .withColumn('Porcentagem', F.round(F.col('Total')/df.count()*100, 2))\n",
        ")"
      ],
      "metadata": {
        "colab": {
          "base_uri": "https://localhost:8080/",
          "height": 91
        },
        "id": "W-UzCglfiLek",
        "outputId": "d8d1fa13-a268-4d14-a40e-08531e12fb9f"
      },
      "execution_count": 71,
      "outputs": [
        {
          "output_type": "execute_result",
          "data": {
            "text/plain": [
              "+------+-----+-----------+\n",
              "|   Sex|Total|Porcentagem|\n",
              "+------+-----+-----------+\n",
              "|female|  314|      35.24|\n",
              "|  male|  577|      64.76|\n",
              "+------+-----+-----------+"
            ],
            "text/html": [
              "<table border='1'>\n",
              "<tr><th>Sex</th><th>Total</th><th>Porcentagem</th></tr>\n",
              "<tr><td>female</td><td>314</td><td>35.24</td></tr>\n",
              "<tr><td>male</td><td>577</td><td>64.76</td></tr>\n",
              "</table>\n"
            ]
          },
          "metadata": {},
          "execution_count": 71
        }
      ]
    },
    {
      "cell_type": "code",
      "source": [
        "window_spec = Window.partitionBy('Pclass')\n",
        "\n",
        "(\n",
        "    df_titanic\n",
        "    .groupBy(['Pclass','Survived'])\n",
        "    .agg(\n",
        "        F.count('Survived').alias('Total')\n",
        "    )\n",
        "    .withColumn('TotalPorClasse', F.sum('Total').over(window_spec))\n",
        "    .withColumn('Porcentagem', F.round(100 * (F.col('Total') / F.col('TotalPorClasse')), 2))\n",
        ")"
      ],
      "metadata": {
        "colab": {
          "base_uri": "https://localhost:8080/",
          "height": 185
        },
        "id": "ds-Ic6kiioAk",
        "outputId": "8e8d8b68-c22a-4941-df64-02a7fd7f4782"
      },
      "execution_count": 72,
      "outputs": [
        {
          "output_type": "execute_result",
          "data": {
            "text/plain": [
              "+------+--------+-----+--------------+-----------+\n",
              "|Pclass|Survived|Total|TotalPorClasse|Porcentagem|\n",
              "+------+--------+-----+--------------+-----------+\n",
              "|     1|       1|  136|           216|      62.96|\n",
              "|     1|       0|   80|           216|      37.04|\n",
              "|     2|       0|   97|           184|      52.72|\n",
              "|     2|       1|   87|           184|      47.28|\n",
              "|     3|       1|  119|           491|      24.24|\n",
              "|     3|       0|  372|           491|      75.76|\n",
              "+------+--------+-----+--------------+-----------+"
            ],
            "text/html": [
              "<table border='1'>\n",
              "<tr><th>Pclass</th><th>Survived</th><th>Total</th><th>TotalPorClasse</th><th>Porcentagem</th></tr>\n",
              "<tr><td>1</td><td>1</td><td>136</td><td>216</td><td>62.96</td></tr>\n",
              "<tr><td>1</td><td>0</td><td>80</td><td>216</td><td>37.04</td></tr>\n",
              "<tr><td>2</td><td>0</td><td>97</td><td>184</td><td>52.72</td></tr>\n",
              "<tr><td>2</td><td>1</td><td>87</td><td>184</td><td>47.28</td></tr>\n",
              "<tr><td>3</td><td>1</td><td>119</td><td>491</td><td>24.24</td></tr>\n",
              "<tr><td>3</td><td>0</td><td>372</td><td>491</td><td>75.76</td></tr>\n",
              "</table>\n"
            ]
          },
          "metadata": {},
          "execution_count": 72
        }
      ]
    },
    {
      "cell_type": "markdown",
      "source": [
        "##Shopping"
      ],
      "metadata": {
        "id": "wZ4lGW_qjmwe"
      }
    },
    {
      "cell_type": "code",
      "source": [
        "df_shopping = spark.read.csv('/content/drive/MyDrive/PySpark/data/Desafio/Mall_Customers.csv', header=True).alias('shopping')"
      ],
      "metadata": {
        "id": "ogwLoEuIjOyP"
      },
      "execution_count": 51,
      "outputs": []
    },
    {
      "cell_type": "code",
      "source": [
        "df_shopping"
      ],
      "metadata": {
        "colab": {
          "base_uri": "https://localhost:8080/",
          "height": 529
        },
        "id": "TFwBPbVwjxpQ",
        "outputId": "aff1a1e5-f3be-4cc9-e6e1-5a0f9ad509d9"
      },
      "execution_count": 52,
      "outputs": [
        {
          "output_type": "execute_result",
          "data": {
            "text/plain": [
              "+----------+------+---+------------------+----------------------+\n",
              "|CustomerID|Gender|Age|Annual Income (k$)|Spending Score (1-100)|\n",
              "+----------+------+---+------------------+----------------------+\n",
              "|         1|  Male| 19|                15|                    39|\n",
              "|         2|  Male| 21|                15|                    81|\n",
              "|         3|Female| 20|                16|                     6|\n",
              "|         4|Female| 23|                16|                    77|\n",
              "|         5|Female| 31|                17|                    40|\n",
              "|         6|Female| 22|                17|                    76|\n",
              "|         7|Female| 35|                18|                     6|\n",
              "|         8|Female| 23|                18|                    94|\n",
              "|         9|  Male| 64|                19|                     3|\n",
              "|        10|Female| 30|                19|                    72|\n",
              "|        11|  Male| 67|                19|                    14|\n",
              "|        12|Female| 35|                19|                    99|\n",
              "|        13|Female| 58|                20|                    15|\n",
              "|        14|Female| 24|                20|                    77|\n",
              "|        15|  Male| 37|                20|                    13|\n",
              "|        16|  Male| 22|                20|                    79|\n",
              "|        17|Female| 35|                21|                    35|\n",
              "|        18|  Male| 20|                21|                    66|\n",
              "|        19|  Male| 52|                23|                    29|\n",
              "|        20|Female| 35|                23|                    98|\n",
              "+----------+------+---+------------------+----------------------+\n",
              "only showing top 20 rows"
            ],
            "text/html": [
              "<table border='1'>\n",
              "<tr><th>CustomerID</th><th>Gender</th><th>Age</th><th>Annual Income (k$)</th><th>Spending Score (1-100)</th></tr>\n",
              "<tr><td>1</td><td>Male</td><td>19</td><td>15</td><td>39</td></tr>\n",
              "<tr><td>2</td><td>Male</td><td>21</td><td>15</td><td>81</td></tr>\n",
              "<tr><td>3</td><td>Female</td><td>20</td><td>16</td><td>6</td></tr>\n",
              "<tr><td>4</td><td>Female</td><td>23</td><td>16</td><td>77</td></tr>\n",
              "<tr><td>5</td><td>Female</td><td>31</td><td>17</td><td>40</td></tr>\n",
              "<tr><td>6</td><td>Female</td><td>22</td><td>17</td><td>76</td></tr>\n",
              "<tr><td>7</td><td>Female</td><td>35</td><td>18</td><td>6</td></tr>\n",
              "<tr><td>8</td><td>Female</td><td>23</td><td>18</td><td>94</td></tr>\n",
              "<tr><td>9</td><td>Male</td><td>64</td><td>19</td><td>3</td></tr>\n",
              "<tr><td>10</td><td>Female</td><td>30</td><td>19</td><td>72</td></tr>\n",
              "<tr><td>11</td><td>Male</td><td>67</td><td>19</td><td>14</td></tr>\n",
              "<tr><td>12</td><td>Female</td><td>35</td><td>19</td><td>99</td></tr>\n",
              "<tr><td>13</td><td>Female</td><td>58</td><td>20</td><td>15</td></tr>\n",
              "<tr><td>14</td><td>Female</td><td>24</td><td>20</td><td>77</td></tr>\n",
              "<tr><td>15</td><td>Male</td><td>37</td><td>20</td><td>13</td></tr>\n",
              "<tr><td>16</td><td>Male</td><td>22</td><td>20</td><td>79</td></tr>\n",
              "<tr><td>17</td><td>Female</td><td>35</td><td>21</td><td>35</td></tr>\n",
              "<tr><td>18</td><td>Male</td><td>20</td><td>21</td><td>66</td></tr>\n",
              "<tr><td>19</td><td>Male</td><td>52</td><td>23</td><td>29</td></tr>\n",
              "<tr><td>20</td><td>Female</td><td>35</td><td>23</td><td>98</td></tr>\n",
              "</table>\n",
              "only showing top 20 rows\n"
            ]
          },
          "metadata": {},
          "execution_count": 52
        }
      ]
    },
    {
      "cell_type": "code",
      "source": [
        "df_shopping.describe()"
      ],
      "metadata": {
        "colab": {
          "base_uri": "https://localhost:8080/",
          "height": 161
        },
        "id": "4DT9un4Yj1lZ",
        "outputId": "e7c7f495-0227-4449-b761-2b0872270390"
      },
      "execution_count": 53,
      "outputs": [
        {
          "output_type": "execute_result",
          "data": {
            "text/plain": [
              "+-------+------------------+------+-----------------+------------------+----------------------+\n",
              "|summary|        CustomerID|Gender|              Age|Annual Income (k$)|Spending Score (1-100)|\n",
              "+-------+------------------+------+-----------------+------------------+----------------------+\n",
              "|  count|               200|   200|              200|               200|                   200|\n",
              "|   mean|             100.5|  null|            38.85|             60.56|                  50.2|\n",
              "| stddev|57.879184513951124|  null|13.96900733155888| 26.26472116527124|    25.823521668370173|\n",
              "|    min|                 1|Female|               18|               101|                     1|\n",
              "|    max|                99|  Male|               70|                99|                    99|\n",
              "+-------+------------------+------+-----------------+------------------+----------------------+"
            ],
            "text/html": [
              "<table border='1'>\n",
              "<tr><th>summary</th><th>CustomerID</th><th>Gender</th><th>Age</th><th>Annual Income (k$)</th><th>Spending Score (1-100)</th></tr>\n",
              "<tr><td>count</td><td>200</td><td>200</td><td>200</td><td>200</td><td>200</td></tr>\n",
              "<tr><td>mean</td><td>100.5</td><td>null</td><td>38.85</td><td>60.56</td><td>50.2</td></tr>\n",
              "<tr><td>stddev</td><td>57.879184513951124</td><td>null</td><td>13.96900733155888</td><td>26.26472116527124</td><td>25.823521668370173</td></tr>\n",
              "<tr><td>min</td><td>1</td><td>Female</td><td>18</td><td>101</td><td>1</td></tr>\n",
              "<tr><td>max</td><td>99</td><td>Male</td><td>70</td><td>99</td><td>99</td></tr>\n",
              "</table>\n"
            ]
          },
          "metadata": {},
          "execution_count": 53
        }
      ]
    },
    {
      "cell_type": "code",
      "source": [
        "(\n",
        "    df_shopping\n",
        "    .groupBy(['Gender'])\n",
        "    .agg(\n",
        "        F.count('Gender').alias('Total')\n",
        "    )\n",
        ")"
      ],
      "metadata": {
        "colab": {
          "base_uri": "https://localhost:8080/",
          "height": 91
        },
        "id": "FZVI_ofrj6el",
        "outputId": "6f6d37d3-4686-471d-8059-6bcf2b62e6f5"
      },
      "execution_count": 54,
      "outputs": [
        {
          "output_type": "execute_result",
          "data": {
            "text/plain": [
              "+------+-----+\n",
              "|Gender|Total|\n",
              "+------+-----+\n",
              "|Female|  112|\n",
              "|  Male|   88|\n",
              "+------+-----+"
            ],
            "text/html": [
              "<table border='1'>\n",
              "<tr><th>Gender</th><th>Total</th></tr>\n",
              "<tr><td>Female</td><td>112</td></tr>\n",
              "<tr><td>Male</td><td>88</td></tr>\n",
              "</table>\n"
            ]
          },
          "metadata": {},
          "execution_count": 54
        }
      ]
    },
    {
      "cell_type": "code",
      "source": [
        "(\n",
        "    df_shopping\n",
        "    .groupBy(['Annual Income (k$)'])\n",
        "    .agg(\n",
        "        F.count('Annual Income (k$)').alias('Total')\n",
        "    )\n",
        "    .filter(F.col('Annual Income (k$)') >= 80)\n",
        ").agg(F.sum('Total').alias('SomaTotal')).collect()[0]['SomaTotal']"
      ],
      "metadata": {
        "colab": {
          "base_uri": "https://localhost:8080/"
        },
        "id": "QV3807hkkA7n",
        "outputId": "24718d8e-eb2b-44bd-b55a-e5ccd53f1fe7"
      },
      "execution_count": 57,
      "outputs": [
        {
          "output_type": "execute_result",
          "data": {
            "text/plain": [
              "38"
            ]
          },
          "metadata": {},
          "execution_count": 57
        }
      ]
    },
    {
      "cell_type": "code",
      "source": [
        "(\n",
        "    df_shopping\n",
        "    .withColumn('classe',\n",
        "          F.when(F.col('Annual Income (k$)') < 80, 'Menor que 80')\n",
        "          .otherwise('Maior ou igual a 80')\n",
        "    )\n",
        "    .groupBy(['classe'])\n",
        "    .agg(\n",
        "        F.count('classe').alias('Total')\n",
        "    )\n",
        ")"
      ],
      "metadata": {
        "colab": {
          "base_uri": "https://localhost:8080/",
          "height": 91
        },
        "id": "lZc-DuD4lkqQ",
        "outputId": "07cefb48-43c6-4f73-b11e-f5acc980bf7f"
      },
      "execution_count": 62,
      "outputs": [
        {
          "output_type": "execute_result",
          "data": {
            "text/plain": [
              "+-------------------+-----+\n",
              "|             classe|Total|\n",
              "+-------------------+-----+\n",
              "|       Menor que 80|  162|\n",
              "|Maior ou igual a 80|   38|\n",
              "+-------------------+-----+"
            ],
            "text/html": [
              "<table border='1'>\n",
              "<tr><th>classe</th><th>Total</th></tr>\n",
              "<tr><td>Menor que 80</td><td>162</td></tr>\n",
              "<tr><td>Maior ou igual a 80</td><td>38</td></tr>\n",
              "</table>\n"
            ]
          },
          "metadata": {},
          "execution_count": 62
        }
      ]
    },
    {
      "cell_type": "code",
      "source": [
        "(\n",
        "    df_shopping\n",
        "    .groupBy('Spending Score (1-100)')\n",
        "    .agg(\n",
        "        F.count('Spending Score (1-100)').alias('Total')\n",
        "    )\n",
        "    .orderBy(F.col('Total').desc())\n",
        "    .limit(1)\n",
        ")"
      ],
      "metadata": {
        "colab": {
          "base_uri": "https://localhost:8080/",
          "height": 68
        },
        "id": "7GIJsBKckTqg",
        "outputId": "33b6def8-79b9-4922-8277-a6aa5a0bcc65"
      },
      "execution_count": 60,
      "outputs": [
        {
          "output_type": "execute_result",
          "data": {
            "text/plain": [
              "+----------------------+-----+\n",
              "|Spending Score (1-100)|Total|\n",
              "+----------------------+-----+\n",
              "|                    42|    8|\n",
              "+----------------------+-----+"
            ],
            "text/html": [
              "<table border='1'>\n",
              "<tr><th>Spending Score (1-100)</th><th>Total</th></tr>\n",
              "<tr><td>42</td><td>8</td></tr>\n",
              "</table>\n"
            ]
          },
          "metadata": {},
          "execution_count": 60
        }
      ]
    },
    {
      "cell_type": "code",
      "source": [],
      "metadata": {
        "id": "OZq3S6ZalXYs"
      },
      "execution_count": null,
      "outputs": []
    }
  ]
}